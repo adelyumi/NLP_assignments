{
 "cells": [
  {
   "cell_type": "markdown",
   "id": "10372672-63de-4f63-989a-f6a43aee7cff",
   "metadata": {
    "id": "10372672-63de-4f63-989a-f6a43aee7cff"
   },
   "source": [
    "## Import libraries"
   ]
  },
  {
   "cell_type": "code",
   "execution_count": 1,
   "id": "5ea9c967-6b8e-4274-a546-ee77b7fdb411",
   "metadata": {
    "id": "5ea9c967-6b8e-4274-a546-ee77b7fdb411"
   },
   "outputs": [
    {
     "name": "stderr",
     "output_type": "stream",
     "text": [
      "C:\\Temp\\ipykernel_6264\\2162656668.py:1: DeprecationWarning: \n",
      "Pyarrow will become a required dependency of pandas in the next major release of pandas (pandas 3.0),\n",
      "(to allow more performant data types, such as the Arrow string type, and better interoperability with other libraries)\n",
      "but was not found to be installed on your system.\n",
      "If this would cause problems for you,\n",
      "please provide us feedback at https://github.com/pandas-dev/pandas/issues/54466\n",
      "        \n",
      "  import pandas as pd\n"
     ]
    }
   ],
   "source": [
    "import pandas as pd\n",
    "import numpy as np"
   ]
  },
  {
   "cell_type": "markdown",
   "id": "b7c2f51e-d7b4-4f3d-9688-a9b634c4a157",
   "metadata": {
    "id": "b7c2f51e-d7b4-4f3d-9688-a9b634c4a157"
   },
   "source": [
    "## Read data"
   ]
  },
  {
   "cell_type": "code",
   "execution_count": 3,
   "id": "78df1e74-21f9-425b-986a-dbf1a1df4edc",
   "metadata": {
    "colab": {
     "base_uri": "https://localhost:8080/",
     "height": 423
    },
    "id": "78df1e74-21f9-425b-986a-dbf1a1df4edc",
    "outputId": "f7a8e59a-f97c-4e63-fdd0-c4ab1690c69a"
   },
   "outputs": [
    {
     "data": {
      "text/html": [
       "<div>\n",
       "<style scoped>\n",
       "    .dataframe tbody tr th:only-of-type {\n",
       "        vertical-align: middle;\n",
       "    }\n",
       "\n",
       "    .dataframe tbody tr th {\n",
       "        vertical-align: top;\n",
       "    }\n",
       "\n",
       "    .dataframe thead th {\n",
       "        text-align: right;\n",
       "    }\n",
       "</style>\n",
       "<table border=\"1\" class=\"dataframe\">\n",
       "  <thead>\n",
       "    <tr style=\"text-align: right;\">\n",
       "      <th></th>\n",
       "      <th>ners</th>\n",
       "      <th>sentences</th>\n",
       "      <th>id</th>\n",
       "    </tr>\n",
       "  </thead>\n",
       "  <tbody>\n",
       "    <tr>\n",
       "      <th>0</th>\n",
       "      <td>[[0, 5, CITY], [16, 23, PERSON], [34, 41, PERS...</td>\n",
       "      <td>Бостон взорвали Тамерлан и Джохар Царнаевы из ...</td>\n",
       "      <td>0</td>\n",
       "    </tr>\n",
       "    <tr>\n",
       "      <th>1</th>\n",
       "      <td>[[21, 28, PROFESSION], [53, 67, ORGANIZATION],...</td>\n",
       "      <td>Умер избитый до комы гитарист и сооснователь г...</td>\n",
       "      <td>1</td>\n",
       "    </tr>\n",
       "    <tr>\n",
       "      <th>2</th>\n",
       "      <td>[[0, 4, PERSON], [37, 42, COUNTRY], [47, 76, O...</td>\n",
       "      <td>Путин подписал распоряжение о выходе России из...</td>\n",
       "      <td>2</td>\n",
       "    </tr>\n",
       "    <tr>\n",
       "      <th>3</th>\n",
       "      <td>[[0, 11, PERSON], [36, 47, PROFESSION], [49, 6...</td>\n",
       "      <td>Бенедикт XVI носил кардиостимулятор\\nПапа Римс...</td>\n",
       "      <td>3</td>\n",
       "    </tr>\n",
       "    <tr>\n",
       "      <th>4</th>\n",
       "      <td>[[0, 4, PERSON], [17, 29, ORGANIZATION], [48, ...</td>\n",
       "      <td>Обама назначит в Верховный суд латиноамериканк...</td>\n",
       "      <td>4</td>\n",
       "    </tr>\n",
       "    <tr>\n",
       "      <th>...</th>\n",
       "      <td>...</td>\n",
       "      <td>...</td>\n",
       "      <td>...</td>\n",
       "    </tr>\n",
       "    <tr>\n",
       "      <th>514</th>\n",
       "      <td>[[42, 46, COUNTRY], [82, 87, COUNTRY], [104, 1...</td>\n",
       "      <td>Глава Малайзии: мы не хотим противостоять Кита...</td>\n",
       "      <td>514</td>\n",
       "    </tr>\n",
       "    <tr>\n",
       "      <th>515</th>\n",
       "      <td>[[1, 4, PRODUCT], [31, 33, FACILITY], [35, 44,...</td>\n",
       "      <td>«Союз» впервые пристыковался к МКС за 6 часов\\...</td>\n",
       "      <td>515</td>\n",
       "    </tr>\n",
       "    <tr>\n",
       "      <th>516</th>\n",
       "      <td>[[0, 4, PERSON], [8, 12, PERSON], [45, 52, AGE...</td>\n",
       "      <td>Трамп и Путин сделали совместное заявление к 7...</td>\n",
       "      <td>516</td>\n",
       "    </tr>\n",
       "    <tr>\n",
       "      <th>517</th>\n",
       "      <td>[[0, 9, NATIONALITY], [58, 72, PERSON], [101, ...</td>\n",
       "      <td>Российский магнат устроил самую дорогую свадьб...</td>\n",
       "      <td>517</td>\n",
       "    </tr>\n",
       "    <tr>\n",
       "      <th>518</th>\n",
       "      <td>[[0, 4, PERSON], [16, 25, PROFESSION], [27, 38...</td>\n",
       "      <td>Трамп поздравил астронавта Пегги Уитсон с уста...</td>\n",
       "      <td>518</td>\n",
       "    </tr>\n",
       "  </tbody>\n",
       "</table>\n",
       "<p>519 rows × 3 columns</p>\n",
       "</div>"
      ],
      "text/plain": [
       "                                                  ners  \\\n",
       "0    [[0, 5, CITY], [16, 23, PERSON], [34, 41, PERS...   \n",
       "1    [[21, 28, PROFESSION], [53, 67, ORGANIZATION],...   \n",
       "2    [[0, 4, PERSON], [37, 42, COUNTRY], [47, 76, O...   \n",
       "3    [[0, 11, PERSON], [36, 47, PROFESSION], [49, 6...   \n",
       "4    [[0, 4, PERSON], [17, 29, ORGANIZATION], [48, ...   \n",
       "..                                                 ...   \n",
       "514  [[42, 46, COUNTRY], [82, 87, COUNTRY], [104, 1...   \n",
       "515  [[1, 4, PRODUCT], [31, 33, FACILITY], [35, 44,...   \n",
       "516  [[0, 4, PERSON], [8, 12, PERSON], [45, 52, AGE...   \n",
       "517  [[0, 9, NATIONALITY], [58, 72, PERSON], [101, ...   \n",
       "518  [[0, 4, PERSON], [16, 25, PROFESSION], [27, 38...   \n",
       "\n",
       "                                             sentences   id  \n",
       "0    Бостон взорвали Тамерлан и Джохар Царнаевы из ...    0  \n",
       "1    Умер избитый до комы гитарист и сооснователь г...    1  \n",
       "2    Путин подписал распоряжение о выходе России из...    2  \n",
       "3    Бенедикт XVI носил кардиостимулятор\\nПапа Римс...    3  \n",
       "4    Обама назначит в Верховный суд латиноамериканк...    4  \n",
       "..                                                 ...  ...  \n",
       "514  Глава Малайзии: мы не хотим противостоять Кита...  514  \n",
       "515  «Союз» впервые пристыковался к МКС за 6 часов\\...  515  \n",
       "516  Трамп и Путин сделали совместное заявление к 7...  516  \n",
       "517  Российский магнат устроил самую дорогую свадьб...  517  \n",
       "518  Трамп поздравил астронавта Пегги Уитсон с уста...  518  \n",
       "\n",
       "[519 rows x 3 columns]"
      ]
     },
     "execution_count": 3,
     "metadata": {},
     "output_type": "execute_result"
    }
   ],
   "source": [
    "train = pd.read_json('../data/train.jsonl', lines=True)\n",
    "train"
   ]
  },
  {
   "cell_type": "markdown",
   "id": "022a70f0-41b0-4b80-87e5-7d128197b678",
   "metadata": {
    "id": "022a70f0-41b0-4b80-87e5-7d128197b678"
   },
   "source": [
    "## Second solution: train spacy model\n",
    "Train the spacy model on the given data, so the model can recognize different types of named entities.\n",
    "\n",
    "Tutorial I used: https://www.newscatcherapi.com/blog/train-custom-named-entity-recognition-ner-model-with-spacy-v3"
   ]
  },
  {
   "cell_type": "code",
   "execution_count": 4,
   "id": "b953724b-9698-4134-8352-66f19a055a7a",
   "metadata": {
    "colab": {
     "base_uri": "https://localhost:8080/"
    },
    "id": "b953724b-9698-4134-8352-66f19a055a7a",
    "outputId": "26746278-6208-4d2b-88dd-617c4da3ab4d"
   },
   "outputs": [
    {
     "name": "stdout",
     "output_type": "stream",
     "text": [
      "Requirement already satisfied: spacy in /usr/local/lib/python3.10/dist-packages (3.7.4)\n",
      "Requirement already satisfied: spacy-legacy<3.1.0,>=3.0.11 in /usr/local/lib/python3.10/dist-packages (from spacy) (3.0.12)\n",
      "Requirement already satisfied: spacy-loggers<2.0.0,>=1.0.0 in /usr/local/lib/python3.10/dist-packages (from spacy) (1.0.5)\n",
      "Requirement already satisfied: murmurhash<1.1.0,>=0.28.0 in /usr/local/lib/python3.10/dist-packages (from spacy) (1.0.10)\n",
      "Requirement already satisfied: cymem<2.1.0,>=2.0.2 in /usr/local/lib/python3.10/dist-packages (from spacy) (2.0.8)\n",
      "Requirement already satisfied: preshed<3.1.0,>=3.0.2 in /usr/local/lib/python3.10/dist-packages (from spacy) (3.0.9)\n",
      "Requirement already satisfied: thinc<8.3.0,>=8.2.2 in /usr/local/lib/python3.10/dist-packages (from spacy) (8.2.3)\n",
      "Requirement already satisfied: wasabi<1.2.0,>=0.9.1 in /usr/local/lib/python3.10/dist-packages (from spacy) (1.1.2)\n",
      "Requirement already satisfied: srsly<3.0.0,>=2.4.3 in /usr/local/lib/python3.10/dist-packages (from spacy) (2.4.8)\n",
      "Requirement already satisfied: catalogue<2.1.0,>=2.0.6 in /usr/local/lib/python3.10/dist-packages (from spacy) (2.0.10)\n",
      "Requirement already satisfied: weasel<0.4.0,>=0.1.0 in /usr/local/lib/python3.10/dist-packages (from spacy) (0.3.4)\n",
      "Requirement already satisfied: typer<0.10.0,>=0.3.0 in /usr/local/lib/python3.10/dist-packages (from spacy) (0.9.4)\n",
      "Requirement already satisfied: smart-open<7.0.0,>=5.2.1 in /usr/local/lib/python3.10/dist-packages (from spacy) (6.4.0)\n",
      "Requirement already satisfied: tqdm<5.0.0,>=4.38.0 in /usr/local/lib/python3.10/dist-packages (from spacy) (4.66.2)\n",
      "Requirement already satisfied: requests<3.0.0,>=2.13.0 in /usr/local/lib/python3.10/dist-packages (from spacy) (2.31.0)\n",
      "Requirement already satisfied: pydantic!=1.8,!=1.8.1,<3.0.0,>=1.7.4 in /usr/local/lib/python3.10/dist-packages (from spacy) (2.7.0)\n",
      "Requirement already satisfied: jinja2 in /usr/local/lib/python3.10/dist-packages (from spacy) (3.1.3)\n",
      "Requirement already satisfied: setuptools in /usr/local/lib/python3.10/dist-packages (from spacy) (67.7.2)\n",
      "Requirement already satisfied: packaging>=20.0 in /usr/local/lib/python3.10/dist-packages (from spacy) (24.0)\n",
      "Requirement already satisfied: langcodes<4.0.0,>=3.2.0 in /usr/local/lib/python3.10/dist-packages (from spacy) (3.3.0)\n",
      "Requirement already satisfied: numpy>=1.19.0 in /usr/local/lib/python3.10/dist-packages (from spacy) (1.25.2)\n",
      "Requirement already satisfied: annotated-types>=0.4.0 in /usr/local/lib/python3.10/dist-packages (from pydantic!=1.8,!=1.8.1,<3.0.0,>=1.7.4->spacy) (0.6.0)\n",
      "Requirement already satisfied: pydantic-core==2.18.1 in /usr/local/lib/python3.10/dist-packages (from pydantic!=1.8,!=1.8.1,<3.0.0,>=1.7.4->spacy) (2.18.1)\n",
      "Requirement already satisfied: typing-extensions>=4.6.1 in /usr/local/lib/python3.10/dist-packages (from pydantic!=1.8,!=1.8.1,<3.0.0,>=1.7.4->spacy) (4.11.0)\n",
      "Requirement already satisfied: charset-normalizer<4,>=2 in /usr/local/lib/python3.10/dist-packages (from requests<3.0.0,>=2.13.0->spacy) (3.3.2)\n",
      "Requirement already satisfied: idna<4,>=2.5 in /usr/local/lib/python3.10/dist-packages (from requests<3.0.0,>=2.13.0->spacy) (3.7)\n",
      "Requirement already satisfied: urllib3<3,>=1.21.1 in /usr/local/lib/python3.10/dist-packages (from requests<3.0.0,>=2.13.0->spacy) (2.0.7)\n",
      "Requirement already satisfied: certifi>=2017.4.17 in /usr/local/lib/python3.10/dist-packages (from requests<3.0.0,>=2.13.0->spacy) (2024.2.2)\n",
      "Requirement already satisfied: blis<0.8.0,>=0.7.8 in /usr/local/lib/python3.10/dist-packages (from thinc<8.3.0,>=8.2.2->spacy) (0.7.11)\n",
      "Requirement already satisfied: confection<1.0.0,>=0.0.1 in /usr/local/lib/python3.10/dist-packages (from thinc<8.3.0,>=8.2.2->spacy) (0.1.4)\n",
      "Requirement already satisfied: click<9.0.0,>=7.1.1 in /usr/local/lib/python3.10/dist-packages (from typer<0.10.0,>=0.3.0->spacy) (8.1.7)\n",
      "Requirement already satisfied: cloudpathlib<0.17.0,>=0.7.0 in /usr/local/lib/python3.10/dist-packages (from weasel<0.4.0,>=0.1.0->spacy) (0.16.0)\n",
      "Requirement already satisfied: MarkupSafe>=2.0 in /usr/local/lib/python3.10/dist-packages (from jinja2->spacy) (2.1.5)\n"
     ]
    }
   ],
   "source": [
    "# Install the library\n",
    "\n",
    "# !pip install spacy"
   ]
  },
  {
   "cell_type": "code",
   "execution_count": 4,
   "id": "d70932b9-cdf8-4a86-a042-fe960617c265",
   "metadata": {
    "id": "d70932b9-cdf8-4a86-a042-fe960617c265"
   },
   "outputs": [],
   "source": [
    "import spacy\n",
    "from spacy.tokens import DocBin\n",
    "from tqdm import tqdm\n",
    "\n",
    "nlp = spacy.blank(\"ru\") # load a new spacy model\n",
    "doc_bin = DocBin() # create a DocBin object"
   ]
  },
  {
   "cell_type": "markdown",
   "id": "R7nDtentwdsn",
   "metadata": {
    "id": "R7nDtentwdsn"
   },
   "source": [
    "### Preprocess data\n",
    "The part of code is taken from the tutorial with some modifications"
   ]
  },
  {
   "cell_type": "code",
   "execution_count": 6,
   "id": "f34d592b-33f2-48b7-b9a5-b2537b0673fa",
   "metadata": {
    "colab": {
     "base_uri": "https://localhost:8080/"
    },
    "id": "f34d592b-33f2-48b7-b9a5-b2537b0673fa",
    "outputId": "a0fac1b0-0120-41b5-8433-b25ae043bcbb"
   },
   "outputs": [
    {
     "name": "stderr",
     "output_type": "stream",
     "text": [
      "519it [00:04, 123.80it/s]\n"
     ]
    },
    {
     "name": "stdout",
     "output_type": "stream",
     "text": [
      "Skipped: 175\n"
     ]
    }
   ],
   "source": [
    "from spacy.util import filter_spans\n",
    "\n",
    "skip = 0\n",
    "for id, row in tqdm(train.iterrows()):\n",
    "    text = row['sentences']\n",
    "    labels = row['ners']\n",
    "    doc = nlp.make_doc(text)\n",
    "    ents = []\n",
    "    for start, end, label in labels:\n",
    "        start, end = int(start), int(end)\n",
    "        span = doc.char_span(start, end+1, label=label, alignment_mode=\"contract\")\n",
    "        # Spacy  model is sensitive to spaces\n",
    "        # so skip span if the first or last character is a space\n",
    "        if span is None or span.text.strip() != span.text:\n",
    "            skip += 1\n",
    "        else:\n",
    "            ents.append(span)\n",
    "    filtered_ents = filter_spans(ents)\n",
    "    doc.ents = filtered_ents\n",
    "    doc_bin.add(doc)\n",
    "print(\"Skipped:\", skip)\n",
    "\n",
    "doc_bin.to_disk(\"training_data.spacy\") # save the docbin object"
   ]
  },
  {
   "cell_type": "markdown",
   "id": "c85f9c2d-02e3-4760-a083-8c259372f1f2",
   "metadata": {
    "id": "c85f9c2d-02e3-4760-a083-8c259372f1f2"
   },
   "source": [
    "Transformer is not available for russian, so I use tok2vec model"
   ]
  },
  {
   "cell_type": "code",
   "execution_count": 8,
   "id": "92b5f988-f207-468e-9301-eb0b152c5b6b",
   "metadata": {
    "colab": {
     "base_uri": "https://localhost:8080/"
    },
    "id": "92b5f988-f207-468e-9301-eb0b152c5b6b",
    "outputId": "1c3141f1-949c-404a-daf0-6a867c878bfa"
   },
   "outputs": [
    {
     "name": "stdout",
     "output_type": "stream",
     "text": [
      "\u001b[38;5;2m✔ Auto-filled config with all values\u001b[0m\n",
      "\u001b[38;5;2m✔ Saved config\u001b[0m\n",
      "config.cfg\n",
      "You can now add your data and train your pipeline:\n",
      "python -m spacy train config.cfg --paths.train ./train.spacy --paths.dev ./dev.spacy\n"
     ]
    }
   ],
   "source": [
    "# Command to create config file for the model\n",
    "! python -m spacy init fill-config base_config.cfg config.cfg"
   ]
  },
  {
   "cell_type": "code",
   "execution_count": 9,
   "id": "4f470f44-ff86-4bfb-a679-b346b5e4b87b",
   "metadata": {
    "colab": {
     "base_uri": "https://localhost:8080/"
    },
    "id": "4f470f44-ff86-4bfb-a679-b346b5e4b87b",
    "outputId": "582cb031-71e5-4fdf-e7b4-9117436ae3d7"
   },
   "outputs": [
    {
     "name": "stdout",
     "output_type": "stream",
     "text": [
      "\u001b[38;5;4mℹ Saving to output directory: .\u001b[0m\n",
      "\u001b[38;5;4mℹ Using GPU: 0\u001b[0m\n",
      "\u001b[1m\n",
      "=========================== Initializing pipeline ===========================\u001b[0m\n",
      "\u001b[38;5;2m✔ Initialized pipeline\u001b[0m\n",
      "\u001b[1m\n",
      "============================= Training pipeline =============================\u001b[0m\n",
      "\u001b[38;5;4mℹ Pipeline: ['tok2vec', 'ner']\u001b[0m\n",
      "\u001b[38;5;4mℹ Initial learn rate: 0.001\u001b[0m\n",
      "E    #       LOSS TOK2VEC  LOSS NER  ENTS_F  ENTS_P  ENTS_R  SCORE \n",
      "---  ------  ------------  --------  ------  ------  ------  ------\n",
      "  0       0          0.00    153.76    1.24    0.73    4.05    0.01\n",
      "  0     200       2343.65  16632.25   30.23   44.79   22.81    0.30\n",
      "  0     400       2171.15  11349.53   42.56   50.07   37.00    0.43\n",
      "  1     600       4121.03  10613.18   57.00   65.08   50.70    0.57\n",
      "  1     800       4314.17   8790.57   61.74   62.95   60.57    0.62\n",
      "  1    1000       2531.60   9134.75   67.37   72.46   62.94    0.67\n",
      "  2    1200       7066.52   7672.29   69.41   74.34   65.09    0.69\n",
      "  2    1400       1948.08   7755.01   69.71   74.16   65.77    0.70\n",
      "  3    1600       6707.81   7128.19   74.57   78.53   70.99    0.75\n",
      "  3    1800       3337.74   6156.37   76.90   78.84   75.06    0.77\n",
      "  3    2000       2071.47   6761.00   78.15   80.98   75.50    0.78\n",
      "  4    2200       1790.23   5752.89   79.46   82.72   76.44    0.79\n",
      "  4    2400       1999.03   5694.18   82.07   84.78   79.53    0.82\n",
      "  5    2600       8628.67   5905.52   82.49   85.90   79.34    0.82\n",
      "  5    2800       2796.01   5257.74   83.93   84.78   83.09    0.84\n",
      "  5    3000      22966.33   5208.77   85.21   85.46   84.95    0.85\n",
      "  6    3200       2038.99   4342.24   86.32   86.96   85.68    0.86\n",
      "  6    3400       2402.32   4567.07   86.96   87.99   85.95    0.87\n",
      "  6    3600       2412.80   4554.75   87.85   89.10   86.63    0.88\n",
      "  7    3800       3559.51   4238.97   88.18   90.19   86.25    0.88\n",
      "  7    4000       3152.65   4060.56   88.80   89.29   88.32    0.89\n",
      "  8    4200       2606.99   4186.71   89.19   88.60   89.79    0.89\n",
      "  8    4400      11262.09   3656.72   90.21   90.54   89.89    0.90\n",
      "  8    4600       2589.49   3715.34   89.69   90.24   89.15    0.90\n",
      "  9    4800       2360.38   3314.68   90.36   91.95   88.83    0.90\n",
      "  9    5000       2740.52   3616.20   90.51   92.80   88.33    0.91\n",
      " 10    5200       3099.00   3696.83   92.68   93.19   92.19    0.93\n",
      " 10    5400       2278.15   2801.49   92.45   93.12   91.79    0.92\n",
      " 10    5600       3190.89   3353.47   92.50   91.90   93.10    0.92\n",
      " 11    5800       2788.25   2918.06   93.54   93.51   93.56    0.94\n",
      " 11    6000       2758.62   3153.77   94.06   94.03   94.09    0.94\n",
      " 12    6200       3617.24   3598.30   93.35   95.62   91.19    0.93\n",
      " 12    6400       4581.41   3681.16   95.14   95.01   95.26    0.95\n",
      " 13    6600       4514.69   4287.13   96.23   96.48   95.99    0.96\n",
      " 14    6800       5566.47   4427.67   96.99   97.19   96.80    0.97\n",
      " 15    7000       6007.99   4650.02   97.68   97.73   97.64    0.98\n",
      " 16    7200      12336.81   4432.20   98.30   98.20   98.39    0.98\n",
      " 18    7400       4737.32   3765.56   98.62   98.65   98.59    0.99\n",
      " 19    7600       4852.93   3463.46   98.76   98.79   98.73    0.99\n",
      " 20    7800       5124.31   3144.34   98.86   98.78   98.93    0.99\n",
      " 21    8000       4871.90   3126.53   98.86   98.70   99.03    0.99\n",
      " 23    8200       4845.04   2914.96   99.06   99.21   98.92    0.99\n",
      " 24    8400       5075.48   2729.76   99.22   99.09   99.36    0.99\n",
      " 25    8600       5072.60   2712.73   99.13   99.15   99.11    0.99\n",
      " 26    8800       4786.19   2476.63   99.21   99.20   99.22    0.99\n",
      " 27    9000       6225.81   2774.61   99.33   99.31   99.34    0.99\n",
      " 29    9200       4544.52   2249.07   99.35   99.37   99.34    0.99\n",
      " 30    9400       4766.91   2148.48   99.25   99.19   99.32    0.99\n",
      " 31    9600       4906.12   2231.30   99.41   99.40   99.42    0.99\n",
      " 32    9800       5994.05   2330.38   99.36   99.41   99.31    0.99\n",
      " 34   10000       5010.97   2258.36   99.32   99.33   99.31    0.99\n",
      " 35   10200       5484.04   2125.79   99.39   99.28   99.49    0.99\n",
      " 36   10400       5108.72   2066.29   99.46   99.40   99.53    0.99\n",
      " 37   10600       5100.53   1985.81   99.56   99.53   99.59    1.00\n",
      " 39   10800       5462.34   1869.51   99.52   99.55   99.49    1.00\n",
      " 40   11000       5928.42   1975.52   99.60   99.58   99.62    1.00\n",
      " 41   11200       4059.92   1720.97   99.54   99.53   99.56    1.00\n",
      " 42   11400       5181.65   1713.47   99.56   99.52   99.60    1.00\n",
      " 44   11600       6192.60   1847.81   99.67   99.70   99.63    1.00\n",
      " 45   11800       4418.94   1668.12   99.57   99.55   99.58    1.00\n",
      " 46   12000       3964.68   1491.86   99.69   99.71   99.68    1.00\n",
      " 47   12200       4602.80   1584.00   99.61   99.65   99.57    1.00\n",
      " 48   12400       4697.71   1594.18   99.65   99.64   99.66    1.00\n",
      " 50   12600       5846.81   1524.04   99.68   99.67   99.70    1.00\n",
      "\n",
      "\u001b[31mAborted.\u001b[0m\n"
     ]
    }
   ],
   "source": [
    "# Command to train the model with training data\n",
    "! python -m spacy train config.cfg --output ./ --paths.train ./training_data.spacy --paths.dev ./training_data.spacy --gpu-id=0"
   ]
  },
  {
   "cell_type": "code",
   "execution_count": 5,
   "id": "afddb05e-c262-4684-bccb-6b6311749484",
   "metadata": {
    "id": "afddb05e-c262-4684-bccb-6b6311749484"
   },
   "outputs": [],
   "source": [
    "# Same fucntion as in the 1st solution (without dictionary)\n",
    "def predict(nlp, df, sentence_row):\n",
    "    '''\n",
    "    Use trained spacy model to predict\n",
    "    named entites in a text\n",
    "\n",
    "    Arguments:\n",
    "    nlp - the spacy model\n",
    "    df - dataframe with data\n",
    "    sentence_row - name of the row with text\n",
    "    '''\n",
    "    ents = []\n",
    "    for id, row in df.iterrows():\n",
    "        # Get the entities for each row\n",
    "        doc = nlp(row[sentence_row])\n",
    "        ents.append([[e.start_char, e.end_char-1, e.label_] for e in doc.ents])\n",
    "    return ents"
   ]
  },
  {
   "cell_type": "markdown",
   "id": "8e5d6ea1-3ac2-431b-be12-9bdd25314cfa",
   "metadata": {
    "id": "8e5d6ea1-3ac2-431b-be12-9bdd25314cfa"
   },
   "source": [
    "### Predict"
   ]
  },
  {
   "cell_type": "code",
   "execution_count": 8,
   "id": "d5b89452-ba37-4133-bab2-227210e58770",
   "metadata": {
    "colab": {
     "base_uri": "https://localhost:8080/",
     "height": 423
    },
    "id": "d5b89452-ba37-4133-bab2-227210e58770",
    "outputId": "8912b12b-2dd3-4ac8-a118-871b82ca2f6a"
   },
   "outputs": [
    {
     "data": {
      "text/html": [
       "<div>\n",
       "<style scoped>\n",
       "    .dataframe tbody tr th:only-of-type {\n",
       "        vertical-align: middle;\n",
       "    }\n",
       "\n",
       "    .dataframe tbody tr th {\n",
       "        vertical-align: top;\n",
       "    }\n",
       "\n",
       "    .dataframe thead th {\n",
       "        text-align: right;\n",
       "    }\n",
       "</style>\n",
       "<table border=\"1\" class=\"dataframe\">\n",
       "  <thead>\n",
       "    <tr style=\"text-align: right;\">\n",
       "      <th></th>\n",
       "      <th>senences</th>\n",
       "      <th>id</th>\n",
       "    </tr>\n",
       "  </thead>\n",
       "  <tbody>\n",
       "    <tr>\n",
       "      <th>0</th>\n",
       "      <td>Владелец «Бирмингема» получил шесть лет тюрьмы...</td>\n",
       "      <td>584</td>\n",
       "    </tr>\n",
       "    <tr>\n",
       "      <th>1</th>\n",
       "      <td>Акция протеста на Майдане Независимости объявл...</td>\n",
       "      <td>585</td>\n",
       "    </tr>\n",
       "    <tr>\n",
       "      <th>2</th>\n",
       "      <td>Фольксваген может перейти под контроль Порше \\...</td>\n",
       "      <td>586</td>\n",
       "    </tr>\n",
       "    <tr>\n",
       "      <th>3</th>\n",
       "      <td>В Москве покажут фильмы Чарли Чаплина с живой ...</td>\n",
       "      <td>587</td>\n",
       "    </tr>\n",
       "    <tr>\n",
       "      <th>4</th>\n",
       "      <td>Чулпан Хаматова сыграет главную роль в фильме ...</td>\n",
       "      <td>588</td>\n",
       "    </tr>\n",
       "    <tr>\n",
       "      <th>...</th>\n",
       "      <td>...</td>\n",
       "      <td>...</td>\n",
       "    </tr>\n",
       "    <tr>\n",
       "      <th>60</th>\n",
       "      <td>ОБСЕ назвала референдум о статусе Крыма незако...</td>\n",
       "      <td>644</td>\n",
       "    </tr>\n",
       "    <tr>\n",
       "      <th>61</th>\n",
       "      <td>Египетского студента могут выслать из страны з...</td>\n",
       "      <td>645</td>\n",
       "    </tr>\n",
       "    <tr>\n",
       "      <th>62</th>\n",
       "      <td>Геннадий Онищенко отправлен в отставку\\nГеннад...</td>\n",
       "      <td>646</td>\n",
       "    </tr>\n",
       "    <tr>\n",
       "      <th>63</th>\n",
       "      <td>Племянник Алишера Усманова разбился в ДТП\\nВид...</td>\n",
       "      <td>647</td>\n",
       "    </tr>\n",
       "    <tr>\n",
       "      <th>64</th>\n",
       "      <td>Владимир Булавин назначен на новую должность —...</td>\n",
       "      <td>648</td>\n",
       "    </tr>\n",
       "  </tbody>\n",
       "</table>\n",
       "<p>65 rows × 2 columns</p>\n",
       "</div>"
      ],
      "text/plain": [
       "                                             senences   id\n",
       "0   Владелец «Бирмингема» получил шесть лет тюрьмы...  584\n",
       "1   Акция протеста на Майдане Независимости объявл...  585\n",
       "2   Фольксваген может перейти под контроль Порше \\...  586\n",
       "3   В Москве покажут фильмы Чарли Чаплина с живой ...  587\n",
       "4   Чулпан Хаматова сыграет главную роль в фильме ...  588\n",
       "..                                                ...  ...\n",
       "60  ОБСЕ назвала референдум о статусе Крыма незако...  644\n",
       "61  Египетского студента могут выслать из страны з...  645\n",
       "62  Геннадий Онищенко отправлен в отставку\\nГеннад...  646\n",
       "63  Племянник Алишера Усманова разбился в ДТП\\nВид...  647\n",
       "64  Владимир Булавин назначен на новую должность —...  648\n",
       "\n",
       "[65 rows x 2 columns]"
      ]
     },
     "execution_count": 8,
     "metadata": {},
     "output_type": "execute_result"
    }
   ],
   "source": [
    "test = pd.read_json('../data/test.jsonl', lines=True)\n",
    "test"
   ]
  },
  {
   "cell_type": "code",
   "execution_count": 9,
   "id": "b234ade7-97d6-4275-8979-64b7f1619194",
   "metadata": {
    "colab": {
     "base_uri": "https://localhost:8080/"
    },
    "id": "b234ade7-97d6-4275-8979-64b7f1619194",
    "outputId": "01759843-0c44-4789-cda8-c1f5efea5608"
   },
   "outputs": [],
   "source": [
    "nlp_ner = spacy.load(\"model-best\")\n",
    "answer = predict(nlp_ner, test, 'senences')"
   ]
  },
  {
   "cell_type": "code",
   "execution_count": 10,
   "id": "f19ee733-fd87-4d91-8ba8-c31fa3886d0c",
   "metadata": {
    "colab": {
     "base_uri": "https://localhost:8080/",
     "height": 423
    },
    "id": "f19ee733-fd87-4d91-8ba8-c31fa3886d0c",
    "outputId": "9d3aa7ef-ba84-4f13-da5b-2ada9f90deca"
   },
   "outputs": [
    {
     "data": {
      "text/html": [
       "<div>\n",
       "<style scoped>\n",
       "    .dataframe tbody tr th:only-of-type {\n",
       "        vertical-align: middle;\n",
       "    }\n",
       "\n",
       "    .dataframe tbody tr th {\n",
       "        vertical-align: top;\n",
       "    }\n",
       "\n",
       "    .dataframe thead th {\n",
       "        text-align: right;\n",
       "    }\n",
       "</style>\n",
       "<table border=\"1\" class=\"dataframe\">\n",
       "  <thead>\n",
       "    <tr style=\"text-align: right;\">\n",
       "      <th></th>\n",
       "      <th>id</th>\n",
       "      <th>ners</th>\n",
       "    </tr>\n",
       "  </thead>\n",
       "  <tbody>\n",
       "    <tr>\n",
       "      <th>0</th>\n",
       "      <td>584</td>\n",
       "      <td>[[0, 19, PROFESSION], [30, 38, NUMBER], [64, 6...</td>\n",
       "    </tr>\n",
       "    <tr>\n",
       "      <th>1</th>\n",
       "      <td>585</td>\n",
       "      <td>[[0, 13, EVENT], [18, 38, FACILITY], [40, 59, ...</td>\n",
       "    </tr>\n",
       "    <tr>\n",
       "      <th>2</th>\n",
       "      <td>586</td>\n",
       "      <td>[[0, 10, PERSON], [39, 43, PERSON], [52, 61, P...</td>\n",
       "    </tr>\n",
       "    <tr>\n",
       "      <th>3</th>\n",
       "      <td>587</td>\n",
       "      <td>[[2, 7, CITY], [24, 36, PERSON], [72, 91, WORK...</td>\n",
       "    </tr>\n",
       "    <tr>\n",
       "      <th>4</th>\n",
       "      <td>588</td>\n",
       "      <td>[[0, 14, PERSON], [50, 61, PERSON], [63, 78, P...</td>\n",
       "    </tr>\n",
       "    <tr>\n",
       "      <th>...</th>\n",
       "      <td>...</td>\n",
       "      <td>...</td>\n",
       "    </tr>\n",
       "    <tr>\n",
       "      <th>60</th>\n",
       "      <td>644</td>\n",
       "      <td>[[0, 3, ORGANIZATION], [34, 38, STATE_OR_PROVI...</td>\n",
       "    </tr>\n",
       "    <tr>\n",
       "      <th>61</th>\n",
       "      <td>645</td>\n",
       "      <td>[[70, 82, PERSON], [118, 129, COUNTRY], [145, ...</td>\n",
       "    </tr>\n",
       "    <tr>\n",
       "      <th>62</th>\n",
       "      <td>646</td>\n",
       "      <td>[[0, 16, PERSON], [30, 37, EVENT], [39, 55, PE...</td>\n",
       "    </tr>\n",
       "    <tr>\n",
       "      <th>63</th>\n",
       "      <td>647</td>\n",
       "      <td>[[10, 25, PERSON], [27, 34, EVENT], [38, 40, E...</td>\n",
       "    </tr>\n",
       "    <tr>\n",
       "      <th>64</th>\n",
       "      <td>648</td>\n",
       "      <td>[[0, 15, PERSON], [17, 24, EVENT], [47, 55, PR...</td>\n",
       "    </tr>\n",
       "  </tbody>\n",
       "</table>\n",
       "<p>65 rows × 2 columns</p>\n",
       "</div>"
      ],
      "text/plain": [
       "     id                                               ners\n",
       "0   584  [[0, 19, PROFESSION], [30, 38, NUMBER], [64, 6...\n",
       "1   585  [[0, 13, EVENT], [18, 38, FACILITY], [40, 59, ...\n",
       "2   586  [[0, 10, PERSON], [39, 43, PERSON], [52, 61, P...\n",
       "3   587  [[2, 7, CITY], [24, 36, PERSON], [72, 91, WORK...\n",
       "4   588  [[0, 14, PERSON], [50, 61, PERSON], [63, 78, P...\n",
       "..  ...                                                ...\n",
       "60  644  [[0, 3, ORGANIZATION], [34, 38, STATE_OR_PROVI...\n",
       "61  645  [[70, 82, PERSON], [118, 129, COUNTRY], [145, ...\n",
       "62  646  [[0, 16, PERSON], [30, 37, EVENT], [39, 55, PE...\n",
       "63  647  [[10, 25, PERSON], [27, 34, EVENT], [38, 40, E...\n",
       "64  648  [[0, 15, PERSON], [17, 24, EVENT], [47, 55, PR...\n",
       "\n",
       "[65 rows x 2 columns]"
      ]
     },
     "execution_count": 10,
     "metadata": {},
     "output_type": "execute_result"
    }
   ],
   "source": [
    "# Prepare the dataframe for output\n",
    "output_df = test.drop(columns=['senences'])\n",
    "output_df['ners'] = answer\n",
    "\n",
    "output_df"
   ]
  },
  {
   "cell_type": "code",
   "execution_count": 11,
   "id": "b99b2cf5-27cd-4bc6-8a49-154bd4841ba2",
   "metadata": {
    "id": "b99b2cf5-27cd-4bc6-8a49-154bd4841ba2"
   },
   "outputs": [],
   "source": [
    "# Write the output\n",
    "with open('test.jsonl', 'w') as f:\n",
    "    f.write(output_df.to_json(orient='records', lines=True, force_ascii=False))"
   ]
  },
  {
   "cell_type": "markdown",
   "id": "2c85e2ba-275e-4041-a9f5-6ca123808352",
   "metadata": {
    "id": "075f2aa0-d30b-4d48-b4b5-b348accf8827"
   },
   "source": [
    "## Conclusion"
   ]
  },
  {
   "cell_type": "markdown",
   "id": "87cbaa32-f3be-4e5a-a3c3-830f93b7d0f0",
   "metadata": {},
   "source": [
    "This solution scored **0.52** points on CodaLab. \n",
    "\n",
    "Some ideas for improvement: \n",
    "- use some pre-computed vectors (e.g. ru_core_news_lg)\n",
    "- split the training dataset into train and eval (in the tutorial the model was trained without splitting, but I think it can improve the model performance)"
   ]
  },
  {
   "cell_type": "code",
   "execution_count": null,
   "id": "3cfcd31e-42bc-47c4-bd6a-a57b7ab3e6e4",
   "metadata": {},
   "outputs": [],
   "source": []
  }
 ],
 "metadata": {
  "accelerator": "GPU",
  "colab": {
   "gpuType": "T4",
   "provenance": []
  },
  "kernelspec": {
   "display_name": "Python 3 (ipykernel)",
   "language": "python",
   "name": "python3"
  },
  "language_info": {
   "codemirror_mode": {
    "name": "ipython",
    "version": 3
   },
   "file_extension": ".py",
   "mimetype": "text/x-python",
   "name": "python",
   "nbconvert_exporter": "python",
   "pygments_lexer": "ipython3",
   "version": "3.12.1"
  }
 },
 "nbformat": 4,
 "nbformat_minor": 5
}
